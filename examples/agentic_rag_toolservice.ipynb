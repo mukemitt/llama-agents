{
  "cells": [
    {
      "cell_type": "markdown",
      "id": "49814a62-0201-4d41-a449-c2c6b4ad2ced",
      "metadata": {
        "id": "49814a62-0201-4d41-a449-c2c6b4ad2ced"
      },
      "source": [
        "# Build an Agentic RAG Service\n",
        "\n",
        "Setup an agent service that can interact with a tool service (containing RAG tools over annual reports).\n",
        "\n",
        "In this notebook, we:\n",
        "- Setup our indexes and query engine tools\n",
        "- Define our multi-agent framework\n",
        "  - A message queue.\n",
        "  - An agentic orchestrator.\n",
        "  - A tools service containing our query engine tools. This will act as a remote executor for tools\n",
        "  - Define meta-tools for our agents. These will make calls to the tools service instead of executing directly\n",
        "  - Our agent services. These wrap existing llama-index agents\n",
        "  - Put all this into a local launcher, to simulate one task passing through the system at a time."
      ]
    },
    {
      "cell_type": "markdown",
      "source": [
        "https://docs.llamaindex.ai/en/stable/examples/agent/openai_agent_tool_call_parser/"
      ],
      "metadata": {
        "id": "M5X0Y1npOD_S"
      },
      "id": "M5X0Y1npOD_S"
    },
    {
      "cell_type": "code",
      "source": [
        "%pip install llama-index-agent-openai\n",
        "%pip install llama-index-llms-openai"
      ],
      "metadata": {
        "id": "_uKleF_uOI6y"
      },
      "id": "_uKleF_uOI6y",
      "execution_count": null,
      "outputs": []
    },
    {
      "cell_type": "code",
      "source": [
        "!pip install llama-index"
      ],
      "metadata": {
        "id": "ffbLtgEAOfhj"
      },
      "id": "ffbLtgEAOfhj",
      "execution_count": null,
      "outputs": []
    },
    {
      "cell_type": "code",
      "source": [
        "from google.colab import userdata\n"
      ],
      "metadata": {
        "id": "5J7LlFB0NbpP"
      },
      "id": "5J7LlFB0NbpP",
      "execution_count": null,
      "outputs": []
    },
    {
      "cell_type": "code",
      "execution_count": 3,
      "id": "e33e5676-8d15-4372-bc32-8d43dd617b80",
      "metadata": {
        "id": "e33e5676-8d15-4372-bc32-8d43dd617b80"
      },
      "outputs": [],
      "source": [
        "import nest_asyncio\n",
        "\n",
        "nest_asyncio.apply()\n",
        "\n",
        "import os\n",
        "\n",
        "#os.environ[\"OPENAI_API_KEY\"] = \"sk-proj-...\"\n",
        "os.environ[\"OPENAI_API_KEY\"] =userdata.get('open_ai_key')"
      ]
    },
    {
      "cell_type": "markdown",
      "id": "8b4be8b8-3d1c-4a82-98f5-ec94d97a679e",
      "metadata": {
        "id": "8b4be8b8-3d1c-4a82-98f5-ec94d97a679e"
      },
      "source": [
        "## Load Data"
      ]
    },
    {
      "cell_type": "code",
      "execution_count": null,
      "id": "383d37e8-3887-4a19-bff3-7b58120f0098",
      "metadata": {
        "id": "383d37e8-3887-4a19-bff3-7b58120f0098"
      },
      "outputs": [],
      "source": [
        "!mkdir -p 'data/10k/'\n",
        "!wget 'https://raw.githubusercontent.com/run-llama/llama_index/main/docs/docs/examples/data/10k/uber_2021.pdf' -O 'data/10k/uber_2021.pdf'\n",
        "!wget 'https://raw.githubusercontent.com/run-llama/llama_index/main/docs/docs/examples/data/10k/lyft_2021.pdf' -O 'data/10k/lyft_2021.pdf'"
      ]
    },
    {
      "cell_type": "code",
      "execution_count": 10,
      "id": "1fe13aa4-55f7-4854-b2b7-b3ae02d8df75",
      "metadata": {
        "id": "1fe13aa4-55f7-4854-b2b7-b3ae02d8df75"
      },
      "outputs": [],
      "source": [
        "from llama_index.core import (\n",
        "    SimpleDirectoryReader,\n",
        "    VectorStoreIndex,\n",
        "    StorageContext,\n",
        "    load_index_from_storage,\n",
        ")\n",
        "\n",
        "from llama_index.core.tools import QueryEngineTool, ToolMetadata"
      ]
    },
    {
      "cell_type": "code",
      "execution_count": 5,
      "id": "dc27a6c2-2840-4705-b832-829a18c8571b",
      "metadata": {
        "id": "dc27a6c2-2840-4705-b832-829a18c8571b"
      },
      "outputs": [],
      "source": [
        "try:\n",
        "    storage_context = StorageContext.from_defaults(persist_dir=\"./storage/lyft\")\n",
        "    lyft_index = load_index_from_storage(storage_context)\n",
        "\n",
        "    storage_context = StorageContext.from_defaults(persist_dir=\"./storage/uber\")\n",
        "    uber_index = load_index_from_storage(storage_context)\n",
        "\n",
        "    index_loaded = True\n",
        "except:\n",
        "    index_loaded = False"
      ]
    },
    {
      "cell_type": "code",
      "execution_count": 11,
      "id": "d17aba20-d21a-45c2-8c0d-4d7c2f52fc7b",
      "metadata": {
        "id": "d17aba20-d21a-45c2-8c0d-4d7c2f52fc7b"
      },
      "outputs": [],
      "source": [
        "if not index_loaded:\n",
        "    # load data\n",
        "    lyft_docs = SimpleDirectoryReader(\n",
        "        input_files=[\"./data/10k/lyft_2021.pdf\"]\n",
        "    ).load_data()\n",
        "    uber_docs = SimpleDirectoryReader(\n",
        "        input_files=[\"./data/10k/uber_2021.pdf\"]\n",
        "    ).load_data()\n",
        "\n",
        "    # build index\n",
        "    lyft_index = VectorStoreIndex.from_documents(lyft_docs)\n",
        "    uber_index = VectorStoreIndex.from_documents(uber_docs)\n",
        "\n",
        "    # persist index\n",
        "    lyft_index.storage_context.persist(persist_dir=\"./storage/lyft\")\n",
        "    uber_index.storage_context.persist(persist_dir=\"./storage/uber\")"
      ]
    },
    {
      "cell_type": "code",
      "execution_count": 12,
      "id": "d2ceb92d-5cb3-415e-aa25-027b5d335ad5",
      "metadata": {
        "id": "d2ceb92d-5cb3-415e-aa25-027b5d335ad5"
      },
      "outputs": [],
      "source": [
        "lyft_engine = lyft_index.as_query_engine(similarity_top_k=3)\n",
        "uber_engine = uber_index.as_query_engine(similarity_top_k=3)"
      ]
    },
    {
      "cell_type": "code",
      "execution_count": 13,
      "id": "b1358879-1530-4b4e-9204-0ca2ade4ef56",
      "metadata": {
        "id": "b1358879-1530-4b4e-9204-0ca2ade4ef56"
      },
      "outputs": [],
      "source": [
        "query_engine_tools = [\n",
        "    QueryEngineTool(\n",
        "        query_engine=lyft_engine,\n",
        "        metadata=ToolMetadata(\n",
        "            name=\"lyft_10k\",\n",
        "            description=(\n",
        "                \"Provides information about Lyft financials for year 2021. \"\n",
        "                \"Use a detailed plain text question as input to the tool.\"\n",
        "            ),\n",
        "        ),\n",
        "    ),\n",
        "    QueryEngineTool(\n",
        "        query_engine=uber_engine,\n",
        "        metadata=ToolMetadata(\n",
        "            name=\"uber_10k\",\n",
        "            description=(\n",
        "                \"Provides information about Uber financials for year 2021. \"\n",
        "                \"Use a detailed plain text question as input to the tool.\"\n",
        "            ),\n",
        "        ),\n",
        "    ),\n",
        "]"
      ]
    },
    {
      "cell_type": "code",
      "source": [
        "!pip install llama_agents"
      ],
      "metadata": {
        "id": "CAEHhdwpQwSf"
      },
      "id": "CAEHhdwpQwSf",
      "execution_count": null,
      "outputs": []
    },
    {
      "cell_type": "markdown",
      "id": "a8ed9ff6-7195-4213-b8a1-38dc06c3b25d",
      "metadata": {
        "id": "a8ed9ff6-7195-4213-b8a1-38dc06c3b25d"
      },
      "source": [
        "## Setup Agents\n",
        "\n",
        "Now that we've defined the query tools, we can wrap these under a `ToolService`."
      ]
    },
    {
      "cell_type": "code",
      "execution_count": 16,
      "id": "9adc290c-1650-480f-8cb7-b81a9f1e1b76",
      "metadata": {
        "id": "9adc290c-1650-480f-8cb7-b81a9f1e1b76"
      },
      "outputs": [],
      "source": [
        "from llama_agents import (\n",
        "    AgentService,\n",
        "    ToolService,\n",
        "    LocalLauncher,\n",
        "    MetaServiceTool,\n",
        "    ControlPlaneServer,\n",
        "    SimpleMessageQueue,\n",
        "    AgentOrchestrator,\n",
        ")\n",
        "\n",
        "from llama_index.core.agent import FunctionCallingAgentWorker\n",
        "from llama_index.llms.openai import OpenAI\n",
        "\n",
        "\n",
        "# create our multi-agent framework components\n",
        "message_queue = SimpleMessageQueue()\n",
        "control_plane = ControlPlaneServer(\n",
        "    message_queue=message_queue,\n",
        "    orchestrator=AgentOrchestrator(llm=OpenAI(model=\"gpt-4o\")),\n",
        ")\n",
        "\n",
        "# define Tool Service\n",
        "tool_service = ToolService(\n",
        "    message_queue=message_queue,\n",
        "    tools=query_engine_tools,\n",
        "    running=True,\n",
        "    step_interval=0.5,\n",
        ")\n",
        "\n",
        "# define meta-tools here\n",
        "meta_tools = [\n",
        "    await MetaServiceTool.from_tool_service(\n",
        "        t.metadata.name,\n",
        "        message_queue=message_queue,\n",
        "        tool_service=tool_service,\n",
        "    )\n",
        "    for t in query_engine_tools\n",
        "]\n",
        "\n",
        "\n",
        "# define Agent and agent service\n",
        "worker1 = FunctionCallingAgentWorker.from_tools(\n",
        "    meta_tools,\n",
        "    llm=OpenAI(),\n",
        ")\n",
        "agent1 = worker1.as_agent()\n",
        "agent_server_1 = AgentService(\n",
        "    agent=agent1,\n",
        "    message_queue=message_queue,\n",
        "    description=\"Used to answer questions over Uber and Lyft 10K documents\",\n",
        "    service_name=\"uber_lyft_10k_analyst_agent\",\n",
        ")"
      ]
    },
    {
      "cell_type": "markdown",
      "id": "a19df0c2-7abe-4563-a4d8-3a47c13b65d0",
      "metadata": {
        "id": "a19df0c2-7abe-4563-a4d8-3a47c13b65d0"
      },
      "source": [
        "## Launch agent\n",
        "\n",
        "With our services, orchestrator, control plane, and message queue defined, we can test our llama-agents network by passing in single messages, and observing the results.\n",
        "\n",
        "This is an excellent way to test, iterate, and debug your llama-agents system."
      ]
    },
    {
      "cell_type": "code",
      "execution_count": 17,
      "id": "7780a9e7",
      "metadata": {
        "id": "7780a9e7"
      },
      "outputs": [],
      "source": [
        "import logging\n",
        "\n",
        "# change logging level to enable or disable more verbose logging\n",
        "logging.getLogger(\"llama_agents\").setLevel(logging.INFO)"
      ]
    },
    {
      "cell_type": "code",
      "execution_count": 18,
      "id": "7b41c86a-fd43-4f82-85ea-90f1208e810f",
      "metadata": {
        "id": "7b41c86a-fd43-4f82-85ea-90f1208e810f"
      },
      "outputs": [],
      "source": [
        "## Define Launcher\n",
        "launcher = LocalLauncher(\n",
        "    [agent_server_1, tool_service],\n",
        "    control_plane,\n",
        "    message_queue,\n",
        ")"
      ]
    },
    {
      "cell_type": "code",
      "execution_count": null,
      "id": "6ddf856b-762c-4608-ac02-c1d5fc75bc63",
      "metadata": {
        "id": "6ddf856b-762c-4608-ac02-c1d5fc75bc63"
      },
      "outputs": [],
      "source": [
        "# query_str = \"What was Lyft's revenue growth in 2021?\"\n",
        "# gets stuck in a loop, should mostly be called once\n",
        "query_str = \"What are the risk factors for Uber?\"\n",
        "result = launcher.launch_single(query_str)"
      ]
    },
    {
      "cell_type": "code",
      "execution_count": 20,
      "id": "b0b3688f-cad4-450e-81fa-037dd1190260",
      "metadata": {
        "colab": {
          "base_uri": "https://localhost:8080/"
        },
        "id": "b0b3688f-cad4-450e-81fa-037dd1190260",
        "outputId": "7eb36c27-3948-4522-e984-0d9f63e3eb96"
      },
      "outputs": [
        {
          "output_type": "stream",
          "name": "stdout",
          "text": [
            "The risk factors for Uber include potential harm to reputation, business, and financial condition due to criminal, violent, inappropriate, or dangerous activities by platform users, inadequate background checks on Drivers and Couriers, incidents of criminal activity or misconduct by Drivers or consumers, liabilities from safety incidents, negative press coverage, data security breaches, challenges in introducing new products and features, regulatory complexities in the transportation industry, and legal issues related to driver classification and compliance with regulations such as AB5 in California.\n"
          ]
        }
      ],
      "source": [
        "print(result)"
      ]
    },
    {
      "cell_type": "code",
      "execution_count": 21,
      "id": "7bbe1896",
      "metadata": {
        "colab": {
          "base_uri": "https://localhost:8080/"
        },
        "id": "7bbe1896",
        "outputId": "aec51ac6-654e-4846-b751-3572b243411c"
      },
      "outputs": [
        {
          "output_type": "stream",
          "name": "stderr",
          "text": [
            "INFO:llama_agents.message_queues.simple - Consumer AgentService-522ebebd-1f1e-47bf-8c85-8e6f51e92375: uber_lyft_10k_analyst_agent has been registered.\n",
            "INFO:llama_agents.message_queues.simple - Consumer ToolService-356ebf9d-aed5-4bd8-878a-7c3709f5756c: default_tool_service has been registered.\n",
            "INFO:llama_agents.message_queues.simple - Consumer fb2b16cc-f85c-40ea-afc3-8ca93ba1d5e9: human has been registered.\n",
            "INFO:llama_agents.message_queues.simple - Consumer ControlPlaneServer-9e24641a-5bfa-4ae6-81f6-3daf790c7b5e: control_plane has been registered.\n",
            "INFO:llama_agents.services.agent - uber_lyft_10k_analyst_agent launch_local\n",
            "INFO:llama_agents.message_queues.base - Publishing message to 'control_plane' with action 'new_task'\n",
            "INFO:llama_agents.message_queues.simple - Launching message queue locally\n",
            "INFO:llama_agents.message_queues.base - Publishing message to 'uber_lyft_10k_analyst_agent' with action 'new_task'\n",
            "INFO:llama_agents.message_queues.simple - Successfully published message 'control_plane' to consumer.\n",
            "INFO:llama_agents.services.agent - Created new task: 62b3f4d4-f6b2-4bf2-a003-96c181436183\n",
            "INFO:llama_agents.message_queues.simple - Successfully published message 'uber_lyft_10k_analyst_agent' to consumer.\n",
            "INFO:llama_agents.message_queues.simple - Consumer MetaServiceTool-61e1a4ed-6256-473e-bbe3-d5464f67ca76: MetaServiceTool-61e1a4ed-6256-473e-bbe3-d5464f67ca76 has been registered.\n",
            "INFO:llama_agents.message_queues.base - Publishing message to 'default_tool_service' with action 'new_tool_call'\n",
            "INFO:llama_agents.message_queues.simple - Successfully published message 'default_tool_service' to consumer.\n",
            "INFO:llama_agents.services.tool - Processing tool call id 057e639c-7848-477d-8fe8-27a4b84a6958 with lyft_10k\n",
            "INFO:llama_agents.message_queues.base - Publishing message to 'MetaServiceTool-61e1a4ed-6256-473e-bbe3-d5464f67ca76' with action 'completed_tool_call'\n",
            "INFO:llama_agents.message_queues.simple - Successfully published message 'MetaServiceTool-61e1a4ed-6256-473e-bbe3-d5464f67ca76' to consumer.\n",
            "INFO:llama_agents.message_queues.base - Publishing message to 'control_plane' with action 'completed_task'\n",
            "INFO:llama_agents.message_queues.base - Publishing message to 'human' with action 'completed_task'\n",
            "INFO:llama_agents.message_queues.simple - Successfully published message 'control_plane' to consumer.\n",
            "INFO:llama_agents.message_queues.simple - Successfully published message 'human' to consumer.\n"
          ]
        }
      ],
      "source": [
        "query_str = \"What was Lyft's revenue growth in 2021?\"\n",
        "result = launcher.launch_single(query_str)"
      ]
    },
    {
      "cell_type": "code",
      "execution_count": 22,
      "id": "2aa57e7f",
      "metadata": {
        "colab": {
          "base_uri": "https://localhost:8080/"
        },
        "id": "2aa57e7f",
        "outputId": "81449fc5-64eb-42ff-8b62-2277d4737c88"
      },
      "outputs": [
        {
          "output_type": "stream",
          "name": "stdout",
          "text": [
            "Lyft's revenue increased by 36% in 2021 compared to the prior year.\n"
          ]
        }
      ],
      "source": [
        "print(result)"
      ]
    }
  ],
  "metadata": {
    "kernelspec": {
      "display_name": "Python 3 (ipykernel)",
      "language": "python",
      "name": "python3"
    },
    "language_info": {
      "codemirror_mode": {
        "name": "ipython",
        "version": 3
      },
      "file_extension": ".py",
      "mimetype": "text/x-python",
      "name": "python",
      "nbconvert_exporter": "python",
      "pygments_lexer": "ipython3"
    },
    "colab": {
      "provenance": []
    }
  },
  "nbformat": 4,
  "nbformat_minor": 5
}